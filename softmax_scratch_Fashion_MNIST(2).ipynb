{
  "cells": [
    {
      "cell_type": "markdown",
      "metadata": {
        "id": "view-in-github",
        "colab_type": "text"
      },
      "source": [
        "<a href=\"https://colab.research.google.com/github/AntaraSaha11/Deep_Learning/blob/main/softmax_scratch_Fashion_MNIST(2).ipynb\" target=\"_parent\"><img src=\"https://colab.research.google.com/assets/colab-badge.svg\" alt=\"Open In Colab\"/></a>"
      ]
    },
    {
      "cell_type": "markdown",
      "metadata": {
        "id": "Vl3eIEYFkgP7"
      },
      "source": [
        "<h1 align='center'><b><font color ='pickle'>Softmax Regression PyTorch Scratch</b></h1>\n",
        "\n",
        "\n"
      ]
    },
    {
      "cell_type": "markdown",
      "metadata": {
        "id": "FIxAU6f3S-MI"
      },
      "source": [
        "# <Font color = 'pickle'>**Load Libraries/Install Software**"
      ]
    },
    {
      "cell_type": "code",
      "execution_count": null,
      "metadata": {
        "execution": {
          "iopub.execute_input": "2022-09-14T05:14:34.442827Z",
          "iopub.status.busy": "2022-09-14T05:14:34.442427Z",
          "iopub.status.idle": "2022-09-14T05:14:34.450360Z",
          "shell.execute_reply": "2022-09-14T05:14:34.449903Z",
          "shell.execute_reply.started": "2022-09-14T05:14:34.442770Z"
        },
        "tags": [],
        "colab": {
          "base_uri": "https://localhost:8080/"
        },
        "id": "-h5a-vtFb738",
        "outputId": "d509908b-5f76-40c6-f130-7a9cd68b1390"
      },
      "outputs": [
        {
          "output_type": "stream",
          "name": "stdout",
          "text": [
            "Running on CoLab\n"
          ]
        }
      ],
      "source": [
        "if 'google.colab' in str(get_ipython()):\n",
        "  print('Running on CoLab')\n",
        "else:\n",
        "  print('Not running on CoLab')"
      ]
    },
    {
      "cell_type": "code",
      "execution_count": null,
      "metadata": {
        "execution": {
          "iopub.execute_input": "2022-09-14T05:14:34.451817Z",
          "iopub.status.busy": "2022-09-14T05:14:34.451104Z",
          "iopub.status.idle": "2022-09-14T05:14:34.455897Z",
          "shell.execute_reply": "2022-09-14T05:14:34.455449Z",
          "shell.execute_reply.started": "2022-09-14T05:14:34.451796Z"
        },
        "id": "q4OpOEo0QktF",
        "tags": []
      },
      "outputs": [],
      "source": [
        "# Install wandb and update it to the latest version\n",
        "if 'google.colab' in str(get_ipython()):\n",
        "    !pip install wandb --upgrade"
      ]
    },
    {
      "cell_type": "code",
      "execution_count": null,
      "metadata": {
        "colab": {
          "base_uri": "https://localhost:8080/"
        },
        "execution": {
          "iopub.execute_input": "2022-09-14T05:14:34.456991Z",
          "iopub.status.busy": "2022-09-14T05:14:34.456610Z",
          "iopub.status.idle": "2022-09-14T05:14:34.460074Z",
          "shell.execute_reply": "2022-09-14T05:14:34.459645Z",
          "shell.execute_reply.started": "2022-09-14T05:14:34.456971Z"
        },
        "id": "m7C0tvyKoy6f",
        "outputId": "f4b2992e-bc71-49db-b92d-f3f1b7170d66",
        "tags": []
      },
      "outputs": [
        {
          "output_type": "stream",
          "name": "stdout",
          "text": [
            "Drive already mounted at /content/drive; to attempt to forcibly remount, call drive.mount(\"/content/drive\", force_remount=True).\n"
          ]
        }
      ],
      "source": [
        "# mount google drive\n",
        "if 'google.colab' in str(get_ipython()):\n",
        "    from google.colab import drive\n",
        "    drive.mount('/content/drive')"
      ]
    },
    {
      "cell_type": "code",
      "execution_count": null,
      "metadata": {
        "execution": {
          "iopub.execute_input": "2022-09-14T05:14:34.462227Z",
          "iopub.status.busy": "2022-09-14T05:14:34.461870Z",
          "iopub.status.idle": "2022-09-14T05:14:35.056328Z",
          "shell.execute_reply": "2022-09-14T05:14:35.055804Z",
          "shell.execute_reply.started": "2022-09-14T05:14:34.462208Z"
        },
        "id": "TqYqOtp5yluv",
        "tags": []
      },
      "outputs": [],
      "source": [
        "# Importing the necessary libraries\n",
        "import torch\n",
        "import torchvision\n",
        "import torchvision.transforms as transforms\n",
        "import numpy as np\n",
        "from pathlib import Path\n",
        "import wandb"
      ]
    },
    {
      "cell_type": "code",
      "execution_count": null,
      "metadata": {
        "execution": {
          "iopub.execute_input": "2022-09-14T05:14:35.057187Z",
          "iopub.status.busy": "2022-09-14T05:14:35.056928Z",
          "iopub.status.idle": "2022-09-14T05:14:35.060467Z",
          "shell.execute_reply": "2022-09-14T05:14:35.060150Z",
          "shell.execute_reply.started": "2022-09-14T05:14:35.057172Z"
        },
        "colab": {
          "base_uri": "https://localhost:8080/"
        },
        "id": "Pc7fWWWDb73-",
        "outputId": "98eaf9ba-aa3f-406f-d4f9-47c77d68890d"
      },
      "outputs": [
        {
          "output_type": "stream",
          "name": "stdout",
          "text": [
            "env: 'WANDB_NOTEBOOK_NAME'='3_3_softmax_scratch_Fashion_MNIST.ipynb'\n"
          ]
        }
      ],
      "source": [
        "%env 'WANDB_NOTEBOOK_NAME' '3_3_softmax_scratch_Fashion_MNIST.ipynb'"
      ]
    },
    {
      "cell_type": "code",
      "source": [
        "# Login to W&B\n",
        "wandb.login()"
      ],
      "metadata": {
        "colab": {
          "base_uri": "https://localhost:8080/"
        },
        "id": "vsr_hAq78XFz",
        "outputId": "4d4a1fc6-3609-40e2-f89a-6d42c208ccd1"
      },
      "execution_count": null,
      "outputs": [
        {
          "output_type": "execute_result",
          "data": {
            "text/plain": [
              "True"
            ]
          },
          "metadata": {},
          "execution_count": 5
        }
      ]
    },
    {
      "cell_type": "markdown",
      "metadata": {
        "id": "17xctemopjdA"
      },
      "source": [
        "# <Font color = 'pickle'>**Fashion-MNIST Dataset**\n",
        "\n",
        "Fashion-MNIST dataset consists of images from 10 categories, each represented by 6000 images in the training dataset and by 1000 in the test dataset. Thus, train set contains 60000 images and test set 10000 images.\n",
        "\n",
        "All the images are grayscale with dimensions 28 x 28.\n",
        "\n",
        "Categories present in the dataset: <font color = 'indianred'>**t-shirt, trousers, pullover, dress, coat, sandal, shirt, sneaker, bag, and ankle boot**</font>\n",
        "\n",
        "Let us download the dataset using some built-in functions."
      ]
    },
    {
      "cell_type": "markdown",
      "metadata": {
        "id": "B1VfYqgk9nAD"
      },
      "source": [
        "We will first convert the images in the dataset to pytorch tensors using torchvision.transforms and then normalize them.\n",
        "\n",
        "Next, we will use torchvision.datasets for downloading the Fashion-MNIST datasets and apply transform that we defines earlier. \n",
        "\n",
        "- `trainset` conains the training data\n",
        "- `testset` contains the testing data"
      ]
    },
    {
      "cell_type": "code",
      "execution_count": null,
      "metadata": {
        "execution": {
          "iopub.execute_input": "2022-09-14T05:14:35.061125Z",
          "iopub.status.busy": "2022-09-14T05:14:35.060949Z",
          "iopub.status.idle": "2022-09-14T05:14:35.067475Z",
          "shell.execute_reply": "2022-09-14T05:14:35.066998Z",
          "shell.execute_reply.started": "2022-09-14T05:14:35.061112Z"
        },
        "id": "zd6c5IGa_iUl",
        "tags": []
      },
      "outputs": [],
      "source": [
        "# This is the path where we will downlaod and save data\n",
        "if 'google.colab' in str(get_ipython()):\n",
        "    data_folder = Path('/content/drive/MyDrive/data/datasets')\n",
        "    notebook_path = Path('/content/drive/MyDrive/teaching_fall_2022/dl-fall-2022/Lecture_3_NN_intro_softmax_scratch/Final_Files/3_3_softmax_scratch_Fashion_MNIST.ipynb')\n",
        "else:\n",
        "    data_folder = Path('/home/harpreet/Insync/google_drive_shaannoor/data/datasets')\n",
        "    notebook_path = Path('/home/harpreet/Insync/google_drive_shaannoor/teaching_fall_2022/dl-fall-2022/Lecture_3_NN_intro_softmax_scratch/Final_Files/3_3_softmax_scratch_Fashion_MNIST.ipynb')"
      ]
    },
    {
      "cell_type": "markdown",
      "metadata": {
        "id": "bTrbf15aROgj"
      },
      "source": [
        "## <Font color = 'pickle'>**Train and Test Dataset**\n"
      ]
    },
    {
      "cell_type": "code",
      "execution_count": null,
      "metadata": {
        "execution": {
          "iopub.execute_input": "2022-09-14T05:14:35.068110Z",
          "iopub.status.busy": "2022-09-14T05:14:35.067972Z",
          "iopub.status.idle": "2022-09-14T05:14:36.024165Z",
          "shell.execute_reply": "2022-09-14T05:14:36.023632Z",
          "shell.execute_reply.started": "2022-09-14T05:14:35.068097Z"
        },
        "id": "fW8R-Djbrd05",
        "tags": []
      },
      "outputs": [],
      "source": [
        "# Transform to convert images to pytorch tensors\n",
        "trans1 = transforms.ToTensor()\n",
        "\n",
        "# Transform to normalize the data\n",
        "# The mean and std are based on train subset which we will create below\n",
        "trans2 = transforms.Normalize((0.2857,), (0.3528))\n",
        "trans = transforms.Compose([trans1, trans2])\n",
        "\n",
        "# Download the training_validation data (we will create two subsets - trainset and valset frpm this)\n",
        "train_val_set = torchvision.datasets.FashionMNIST(root = data_folder, \n",
        "                                             train = True, \n",
        "                                             transform = trans, \n",
        "                                             download = True)\n",
        "\n",
        "# Download the testing data\n",
        "testset = torchvision.datasets.FashionMNIST(root = data_folder, \n",
        "                                            train = False, \n",
        "                                            transform = trans, \n",
        "                                            download = True)"
      ]
    },
    {
      "cell_type": "markdown",
      "metadata": {
        "id": "N_ICobccV--y"
      },
      "source": [
        "## <Font color = 'pickle'>**Split train set to train/validation set**"
      ]
    },
    {
      "cell_type": "code",
      "execution_count": null,
      "metadata": {
        "execution": {
          "iopub.execute_input": "2022-09-14T05:14:36.025050Z",
          "iopub.status.busy": "2022-09-14T05:14:36.024871Z",
          "iopub.status.idle": "2022-09-14T05:14:36.028441Z",
          "shell.execute_reply": "2022-09-14T05:14:36.028066Z",
          "shell.execute_reply.started": "2022-09-14T05:14:36.025033Z"
        },
        "id": "mm5_iI3sjdwB",
        "tags": []
      },
      "outputs": [],
      "source": [
        "def split_dataset(base_dataset, fraction, seed):\n",
        "    split_a_size = int(fraction * len(base_dataset))\n",
        "    split_b_size = len(base_dataset) - split_a_size\n",
        "    return torch.utils.data.random_split(base_dataset, [split_a_size, split_b_size], generator=torch.Generator().manual_seed(seed)\n",
        "    )"
      ]
    },
    {
      "cell_type": "code",
      "execution_count": null,
      "metadata": {
        "execution": {
          "iopub.execute_input": "2022-09-14T05:14:36.029462Z",
          "iopub.status.busy": "2022-09-14T05:14:36.029085Z",
          "iopub.status.idle": "2022-09-14T05:14:36.035788Z",
          "shell.execute_reply": "2022-09-14T05:14:36.035128Z",
          "shell.execute_reply.started": "2022-09-14T05:14:36.029445Z"
        },
        "id": "8X5iQ2zpkcV1",
        "tags": []
      },
      "outputs": [],
      "source": [
        "trainset, validset = split_dataset(train_val_set, 0.8, 42)"
      ]
    },
    {
      "cell_type": "code",
      "source": [
        "# Since the transforms are not applied, we will manually first divide by 255\n",
        "# we will then get the mean and std dev \n",
        "# the images are still in mumpy with the shape (number of images, H, W, Channels)\n",
        "# Since we need mean, std dev \n",
        "train_data = train_val_set.data[trainset.indices]/255\n",
        "train_data.shape\n",
        "print(train_data.mean(axis = (0,1,2)))\n",
        "print(train_data.std(axis = (0,1,2)))"
      ],
      "metadata": {
        "colab": {
          "base_uri": "https://localhost:8080/"
        },
        "id": "rEalB7m9gIv4",
        "outputId": "5b91e382-0a4a-4571-ca48-9d1ec4d2c12a"
      },
      "execution_count": null,
      "outputs": [
        {
          "output_type": "stream",
          "name": "stdout",
          "text": [
            "tensor(0.2857)\n",
            "tensor(0.3528)\n"
          ]
        }
      ]
    },
    {
      "cell_type": "markdown",
      "metadata": {
        "id": "D0ipdb9rXovr"
      },
      "source": [
        "## <Font color = 'pickle'>**Check inputs**"
      ]
    },
    {
      "cell_type": "code",
      "execution_count": null,
      "metadata": {
        "colab": {
          "base_uri": "https://localhost:8080/"
        },
        "execution": {
          "iopub.execute_input": "2022-09-14T05:14:36.036904Z",
          "iopub.status.busy": "2022-09-14T05:14:36.036545Z",
          "iopub.status.idle": "2022-09-14T05:14:36.040199Z",
          "shell.execute_reply": "2022-09-14T05:14:36.039710Z",
          "shell.execute_reply.started": "2022-09-14T05:14:36.036885Z"
        },
        "id": "SEafSvdbxaUW",
        "outputId": "f7b7a3c8-8c75-4f1a-9717-eadaefa3ebd0",
        "tags": []
      },
      "outputs": [
        {
          "output_type": "stream",
          "name": "stdout",
          "text": [
            "<class 'torch.utils.data.dataset.Subset'>\n",
            "<class 'torchvision.datasets.mnist.FashionMNIST'>\n",
            "<class 'list'>\n"
          ]
        }
      ],
      "source": [
        "print(type(trainset), type(trainset.dataset), type(trainset.indices), sep ='\\n')"
      ]
    },
    {
      "cell_type": "code",
      "execution_count": null,
      "metadata": {
        "colab": {
          "base_uri": "https://localhost:8080/"
        },
        "execution": {
          "iopub.execute_input": "2022-09-14T05:14:36.041033Z",
          "iopub.status.busy": "2022-09-14T05:14:36.040818Z",
          "iopub.status.idle": "2022-09-14T05:14:36.049587Z",
          "shell.execute_reply": "2022-09-14T05:14:36.049140Z",
          "shell.execute_reply.started": "2022-09-14T05:14:36.041016Z"
        },
        "id": "vugZuVfwvoeT",
        "outputId": "a61fc4c4-2993-4f7b-f9bd-ed7029399954",
        "tags": []
      },
      "outputs": [
        {
          "output_type": "execute_result",
          "data": {
            "text/plain": [
              "[37542, 43087, 2992, 25810, 39634]"
            ]
          },
          "metadata": {},
          "execution_count": 12
        }
      ],
      "source": [
        "trainset.indices[0:5]"
      ]
    },
    {
      "cell_type": "code",
      "execution_count": null,
      "metadata": {
        "colab": {
          "base_uri": "https://localhost:8080/"
        },
        "execution": {
          "iopub.execute_input": "2022-09-14T05:14:36.050575Z",
          "iopub.status.busy": "2022-09-14T05:14:36.050231Z",
          "iopub.status.idle": "2022-09-14T05:14:36.053490Z",
          "shell.execute_reply": "2022-09-14T05:14:36.053063Z",
          "shell.execute_reply.started": "2022-09-14T05:14:36.050556Z"
        },
        "id": "wGXxzrChyQYp",
        "outputId": "143a64cd-85bc-448f-cca0-f51fb672aec2",
        "tags": []
      },
      "outputs": [
        {
          "output_type": "stream",
          "name": "stdout",
          "text": [
            "48000\n",
            "60000\n",
            "48000\n"
          ]
        }
      ],
      "source": [
        "print(len(trainset), len(trainset.dataset), len(trainset.indices), sep ='\\n')"
      ]
    },
    {
      "cell_type": "code",
      "execution_count": null,
      "metadata": {
        "colab": {
          "base_uri": "https://localhost:8080/"
        },
        "execution": {
          "iopub.execute_input": "2022-09-14T05:14:36.056501Z",
          "iopub.status.busy": "2022-09-14T05:14:36.056248Z",
          "iopub.status.idle": "2022-09-14T05:14:36.060827Z",
          "shell.execute_reply": "2022-09-14T05:14:36.060322Z",
          "shell.execute_reply.started": "2022-09-14T05:14:36.056482Z"
        },
        "id": "w1Zov4McmuN-",
        "outputId": "1918e578-b027-42bc-cd0c-ad88e70e7333",
        "tags": []
      },
      "outputs": [
        {
          "output_type": "execute_result",
          "data": {
            "text/plain": [
              "(48000, 12000)"
            ]
          },
          "metadata": {},
          "execution_count": 14
        }
      ],
      "source": [
        "# Shape of training data\n",
        "len(trainset.indices), len(validset.indices)"
      ]
    },
    {
      "cell_type": "code",
      "execution_count": null,
      "metadata": {
        "colab": {
          "base_uri": "https://localhost:8080/"
        },
        "execution": {
          "iopub.execute_input": "2022-09-14T05:14:36.061697Z",
          "iopub.status.busy": "2022-09-14T05:14:36.061470Z",
          "iopub.status.idle": "2022-09-14T05:14:36.114889Z",
          "shell.execute_reply": "2022-09-14T05:14:36.114421Z",
          "shell.execute_reply.started": "2022-09-14T05:14:36.061679Z"
        },
        "id": "Ci1h1FlYvMaa",
        "outputId": "ba213113-011b-4327-c383-499af514b5ea",
        "tags": []
      },
      "outputs": [
        {
          "output_type": "stream",
          "name": "stdout",
          "text": [
            "torch.Size([48000, 28, 28])\n",
            "torch.Size([48000, 28, 28])\n"
          ]
        }
      ],
      "source": [
        "print(train_val_set.data[trainset.indices].shape)\n",
        "print(trainset.dataset.data[trainset.indices].shape)"
      ]
    },
    {
      "cell_type": "code",
      "execution_count": null,
      "metadata": {
        "colab": {
          "base_uri": "https://localhost:8080/"
        },
        "execution": {
          "iopub.execute_input": "2022-09-14T05:14:36.115795Z",
          "iopub.status.busy": "2022-09-14T05:14:36.115565Z",
          "iopub.status.idle": "2022-09-14T05:14:36.124832Z",
          "shell.execute_reply": "2022-09-14T05:14:36.124354Z",
          "shell.execute_reply.started": "2022-09-14T05:14:36.115777Z"
        },
        "id": "f1MpLXsTvdSo",
        "outputId": "f8db6186-b210-495f-cd84-a7c6f0762a79",
        "tags": []
      },
      "outputs": [
        {
          "output_type": "execute_result",
          "data": {
            "text/plain": [
              "torch.Size([12000, 28, 28])"
            ]
          },
          "metadata": {},
          "execution_count": 16
        }
      ],
      "source": [
        "train_val_set.data[validset.indices].shape"
      ]
    },
    {
      "cell_type": "code",
      "execution_count": null,
      "metadata": {
        "colab": {
          "base_uri": "https://localhost:8080/"
        },
        "execution": {
          "iopub.execute_input": "2022-09-14T05:14:36.125736Z",
          "iopub.status.busy": "2022-09-14T05:14:36.125534Z",
          "iopub.status.idle": "2022-09-14T05:14:36.129432Z",
          "shell.execute_reply": "2022-09-14T05:14:36.128588Z",
          "shell.execute_reply.started": "2022-09-14T05:14:36.125720Z"
        },
        "id": "JmgUaxgu_RqQ",
        "outputId": "a0adcaab-46b1-4e3a-e65a-7f98fd7d713e",
        "tags": []
      },
      "outputs": [
        {
          "output_type": "execute_result",
          "data": {
            "text/plain": [
              "torch.Size([10000, 28, 28])"
            ]
          },
          "metadata": {},
          "execution_count": 17
        }
      ],
      "source": [
        "# Shape of testing data\n",
        "testset.data.shape"
      ]
    },
    {
      "cell_type": "code",
      "execution_count": null,
      "metadata": {
        "colab": {
          "base_uri": "https://localhost:8080/"
        },
        "execution": {
          "iopub.execute_input": "2022-09-14T05:14:36.130409Z",
          "iopub.status.busy": "2022-09-14T05:14:36.130107Z",
          "iopub.status.idle": "2022-09-14T05:14:36.221363Z",
          "shell.execute_reply": "2022-09-14T05:14:36.220707Z",
          "shell.execute_reply.started": "2022-09-14T05:14:36.130392Z"
        },
        "id": "OS5QMGxmlqE-",
        "outputId": "d20206f8-9ce4-4888-f0a5-c10d78bc627d",
        "tags": []
      },
      "outputs": [
        {
          "output_type": "execute_result",
          "data": {
            "text/plain": [
              "tensor(255, dtype=torch.uint8)"
            ]
          },
          "metadata": {},
          "execution_count": 18
        }
      ],
      "source": [
        "# check the max value of inputs - the transformation are not yet applied.\n",
        "# the transofrmation are applied iteratively on batches \n",
        "# when we craete batch by iterating over dataloader\n",
        "train_val_set.data[trainset.indices].max()"
      ]
    },
    {
      "cell_type": "code",
      "execution_count": null,
      "metadata": {
        "colab": {
          "base_uri": "https://localhost:8080/"
        },
        "execution": {
          "iopub.execute_input": "2022-09-14T05:14:36.222265Z",
          "iopub.status.busy": "2022-09-14T05:14:36.222043Z",
          "iopub.status.idle": "2022-09-14T05:14:36.330539Z",
          "shell.execute_reply": "2022-09-14T05:14:36.330107Z",
          "shell.execute_reply.started": "2022-09-14T05:14:36.222248Z"
        },
        "id": "Gs5yKgGumIwN",
        "outputId": "2d9ab838-a8a0-4863-e9c0-77e548382c29",
        "tags": []
      },
      "outputs": [
        {
          "output_type": "execute_result",
          "data": {
            "text/plain": [
              "tensor(0, dtype=torch.uint8)"
            ]
          },
          "metadata": {},
          "execution_count": 19
        }
      ],
      "source": [
        "# check the min value of inputs\n",
        "train_val_set.data[trainset.indices].min()"
      ]
    },
    {
      "cell_type": "markdown",
      "metadata": {
        "id": "T-JCMTUfX5vp"
      },
      "source": [
        "## <Font color = 'pickle'>**Check Labels**"
      ]
    },
    {
      "cell_type": "code",
      "execution_count": null,
      "metadata": {
        "colab": {
          "base_uri": "https://localhost:8080/"
        },
        "execution": {
          "iopub.execute_input": "2022-09-14T05:14:36.840824Z",
          "iopub.status.busy": "2022-09-14T05:14:36.840688Z",
          "iopub.status.idle": "2022-09-14T05:14:36.847830Z",
          "shell.execute_reply": "2022-09-14T05:14:36.847310Z",
          "shell.execute_reply.started": "2022-09-14T05:14:36.840811Z"
        },
        "id": "_W3Xmg7zXQAE",
        "outputId": "2b3ebf07-1b58-489e-cace-22d1cc40b9c6",
        "tags": []
      },
      "outputs": [
        {
          "output_type": "execute_result",
          "data": {
            "text/plain": [
              "torch.Size([48000])"
            ]
          },
          "metadata": {},
          "execution_count": 20
        }
      ],
      "source": [
        "# check target values for train set\n",
        "train_val_set.targets[trainset.indices].shape"
      ]
    },
    {
      "cell_type": "code",
      "execution_count": null,
      "metadata": {
        "colab": {
          "base_uri": "https://localhost:8080/"
        },
        "execution": {
          "iopub.execute_input": "2022-09-14T05:14:36.848648Z",
          "iopub.status.busy": "2022-09-14T05:14:36.848466Z",
          "iopub.status.idle": "2022-09-14T05:14:36.854609Z",
          "shell.execute_reply": "2022-09-14T05:14:36.854119Z",
          "shell.execute_reply.started": "2022-09-14T05:14:36.848631Z"
        },
        "id": "rRsK8ZYMXR38",
        "outputId": "d4b4fd2c-40e3-4d25-ca98-caafaa0c4833",
        "tags": []
      },
      "outputs": [
        {
          "output_type": "execute_result",
          "data": {
            "text/plain": [
              "tensor([0, 1, 2, 3, 4, 5, 6, 7, 8, 9])"
            ]
          },
          "metadata": {},
          "execution_count": 21
        }
      ],
      "source": [
        "# Unique Target values\n",
        "train_val_set.targets[trainset.indices].unique()"
      ]
    },
    {
      "cell_type": "code",
      "execution_count": null,
      "metadata": {
        "colab": {
          "base_uri": "https://localhost:8080/"
        },
        "execution": {
          "iopub.execute_input": "2022-09-14T05:14:36.855633Z",
          "iopub.status.busy": "2022-09-14T05:14:36.855208Z",
          "iopub.status.idle": "2022-09-14T05:14:36.859466Z",
          "shell.execute_reply": "2022-09-14T05:14:36.859059Z",
          "shell.execute_reply.started": "2022-09-14T05:14:36.855616Z"
        },
        "id": "f36Yu2AcwjG-",
        "outputId": "e67b8cd0-0256-4ad3-ef08-1d9c0f05e78b",
        "tags": []
      },
      "outputs": [
        {
          "output_type": "execute_result",
          "data": {
            "text/plain": [
              "tensor([0, 1, 2, 3, 4, 5, 6, 7, 8, 9])"
            ]
          },
          "metadata": {},
          "execution_count": 22
        }
      ],
      "source": [
        "train_val_set.targets[validset.indices].unique()"
      ]
    },
    {
      "cell_type": "code",
      "execution_count": null,
      "metadata": {
        "colab": {
          "base_uri": "https://localhost:8080/"
        },
        "execution": {
          "iopub.execute_input": "2022-09-14T05:14:36.860360Z",
          "iopub.status.busy": "2022-09-14T05:14:36.860032Z",
          "iopub.status.idle": "2022-09-14T05:14:36.864255Z",
          "shell.execute_reply": "2022-09-14T05:14:36.863842Z",
          "shell.execute_reply.started": "2022-09-14T05:14:36.860345Z"
        },
        "id": "t-axZSrQwlMk",
        "outputId": "db46cd23-1d94-41dd-bb88-523d7e6b17d8",
        "tags": []
      },
      "outputs": [
        {
          "output_type": "execute_result",
          "data": {
            "text/plain": [
              "tensor([0, 1, 2, 3, 4, 5, 6, 7, 8, 9])"
            ]
          },
          "metadata": {},
          "execution_count": 23
        }
      ],
      "source": [
        "testset.targets.unique()"
      ]
    },
    {
      "cell_type": "markdown",
      "metadata": {
        "id": "U5PslDp5R7Ff"
      },
      "source": [
        "# <Font color = 'pickle'>**Data Loaders**\n",
        "\n",
        "The next step is to create dataloader for train, valid, and test set using pytorch dataloader. This will be an iterator that will provide dataset in batches.  Let's keep batch size as 256. "
      ]
    },
    {
      "cell_type": "code",
      "execution_count": null,
      "metadata": {
        "execution": {
          "iopub.execute_input": "2022-09-14T05:14:36.865209Z",
          "iopub.status.busy": "2022-09-14T05:14:36.864829Z",
          "iopub.status.idle": "2022-09-14T05:14:36.868568Z",
          "shell.execute_reply": "2022-09-14T05:14:36.868041Z",
          "shell.execute_reply.started": "2022-09-14T05:14:36.865192Z"
        },
        "id": "gEHKwmX_ATOt",
        "tags": []
      },
      "outputs": [],
      "source": [
        "# Initializing the batch size\n",
        "batch_size = 256\n",
        "\n",
        "# Creating data loader for train set\n",
        "train_loader = torch.utils.data.DataLoader(dataset = trainset, \n",
        "                                            batch_size = batch_size, \n",
        "                                            shuffle = True)\n",
        "\n",
        "valid_loader = torch.utils.data.DataLoader(dataset = validset, \n",
        "                                            batch_size = batch_size, \n",
        "                                            shuffle = False)\n",
        "\n",
        "# Creating data loader for test set\n",
        "test_loader = torch.utils.data.DataLoader(dataset = testset, \n",
        "                                          batch_size = batch_size, \n",
        "                                          shuffle = False)"
      ]
    },
    {
      "cell_type": "code",
      "execution_count": null,
      "metadata": {
        "colab": {
          "base_uri": "https://localhost:8080/"
        },
        "execution": {
          "iopub.execute_input": "2022-09-14T05:14:36.869463Z",
          "iopub.status.busy": "2022-09-14T05:14:36.869252Z",
          "iopub.status.idle": "2022-09-14T05:14:36.873552Z",
          "shell.execute_reply": "2022-09-14T05:14:36.873152Z",
          "shell.execute_reply.started": "2022-09-14T05:14:36.869446Z"
        },
        "id": "SrO2i0utr2fS",
        "outputId": "f1dbeb9e-1246-4a71-afd0-ec144fa989c0",
        "tags": []
      },
      "outputs": [
        {
          "output_type": "execute_result",
          "data": {
            "text/plain": [
              "188"
            ]
          },
          "metadata": {},
          "execution_count": 25
        }
      ],
      "source": [
        "# check number of batches\n",
        "len(train_loader)"
      ]
    },
    {
      "cell_type": "code",
      "execution_count": null,
      "metadata": {
        "colab": {
          "base_uri": "https://localhost:8080/"
        },
        "execution": {
          "iopub.execute_input": "2022-09-14T05:14:36.874501Z",
          "iopub.status.busy": "2022-09-14T05:14:36.874150Z",
          "iopub.status.idle": "2022-09-14T05:14:36.877334Z",
          "shell.execute_reply": "2022-09-14T05:14:36.876970Z",
          "shell.execute_reply.started": "2022-09-14T05:14:36.874483Z"
        },
        "id": "KSYReXcBsEjs",
        "outputId": "4e0fd4f4-a5e2-460f-b8a6-70f847303083",
        "tags": []
      },
      "outputs": [
        {
          "output_type": "execute_result",
          "data": {
            "text/plain": [
              "48000"
            ]
          },
          "metadata": {},
          "execution_count": 26
        }
      ],
      "source": [
        "# check total training examples\n",
        "len(train_loader.dataset)"
      ]
    },
    {
      "cell_type": "code",
      "execution_count": null,
      "metadata": {
        "colab": {
          "base_uri": "https://localhost:8080/"
        },
        "execution": {
          "iopub.execute_input": "2022-09-14T05:14:36.878229Z",
          "iopub.status.busy": "2022-09-14T05:14:36.877896Z",
          "iopub.status.idle": "2022-09-14T05:14:36.929897Z",
          "shell.execute_reply": "2022-09-14T05:14:36.929441Z",
          "shell.execute_reply.started": "2022-09-14T05:14:36.878212Z"
        },
        "id": "JGIeEEzEjRlP",
        "outputId": "d4895d6d-c557-40d0-9f5e-1475438df1d5"
      },
      "outputs": [
        {
          "output_type": "stream",
          "name": "stdout",
          "text": [
            "shape of inputs is :torch.Size([256, 1, 28, 28])\n",
            "\n",
            "max input value  :2.0246598720550537\n",
            "\n",
            "min input value  :-0.8098071813583374\n",
            "\n",
            "mean input value  :0.007747163530439138\n",
            "\n",
            "std input value  :1.0044382810592651\n",
            "\n",
            "shape of targets is :torch.Size([256])\n",
            "\n",
            "inputs  :tensor([[0.6019, 1.7912, 1.4800, 1.5467, 1.4800],\n",
            "        [1.2021, 1.4800, 1.5245, 1.4911, 1.6023],\n",
            "        [1.5578, 1.3688, 1.5467, 1.5245, 1.6023],\n",
            "        [1.5912, 1.3688, 1.6690, 1.4911, 1.5578],\n",
            "        [1.5578, 1.2799, 1.7357, 1.4689, 1.5689]])\n"
          ]
        }
      ],
      "source": [
        "# check imputs and outputs \n",
        "for input, target in train_loader:\n",
        "  print(f'shape of inputs is :{input.shape}')\n",
        "  print(f'\\nmax input value  :{input.max()}')\n",
        "  print(f'\\nmin input value  :{input.min()}')\n",
        "  print(f'\\nmean input value  :{input.mean()}')\n",
        "  print(f'\\nstd input value  :{input.std()}')\n",
        "  print(f'\\nshape of targets is :{target.shape}')\n",
        "  print(f'\\ninputs  :{input[0, 0, 5:10, 5:10]}')\n",
        "  \n",
        "  break"
      ]
    },
    {
      "cell_type": "markdown",
      "metadata": {
        "id": "04zmdTe-EDeB"
      },
      "source": [
        "# <Font color = 'pickle'>**Visualize the Data**"
      ]
    },
    {
      "cell_type": "code",
      "execution_count": null,
      "metadata": {
        "colab": {
          "base_uri": "https://localhost:8080/",
          "height": 169
        },
        "execution": {
          "iopub.execute_input": "2022-09-14T05:14:36.930718Z",
          "iopub.status.busy": "2022-09-14T05:14:36.930505Z",
          "iopub.status.idle": "2022-09-14T05:14:37.013067Z",
          "shell.execute_reply": "2022-09-14T05:14:37.012589Z",
          "shell.execute_reply.started": "2022-09-14T05:14:36.930701Z"
        },
        "id": "1jcbvhvwCvDX",
        "outputId": "5ea1ce93-0a52-4ce4-f3df-fb9f3bf9a556"
      },
      "outputs": [
        {
          "output_type": "execute_result",
          "data": {
            "text/plain": [
              "<PIL.PngImagePlugin.PngImageFile image mode=RGB size=302x152 at 0x7F3AA9783CD0>"
            ],
            "image/png": "[encoded data removed]"
          },
          "metadata": {},
          "execution_count": 28
        }
      ],
      "source": [
        "# Get some random training images\n",
        "dataiter = iter(train_loader)\n",
        "images, labels = dataiter.next()\n",
        "\n",
        "# Create grid of images\n",
        "img_grid = torchvision.utils.make_grid(images[0:50], nrow = 10)\n",
        "\n",
        "# Logging to W&B\n",
        "images = wandb.Image(img_grid, caption = \"Sample images\")\n",
        "images.image"
      ]
    },
    {
      "cell_type": "code",
      "execution_count": null,
      "metadata": {
        "execution": {
          "iopub.execute_input": "2022-09-14T05:14:37.013892Z",
          "iopub.status.busy": "2022-09-14T05:14:37.013680Z",
          "iopub.status.idle": "2022-09-14T05:14:37.016385Z",
          "shell.execute_reply": "2022-09-14T05:14:37.015963Z",
          "shell.execute_reply.started": "2022-09-14T05:14:37.013876Z"
        },
        "id": "C64NLmbjD-Qr"
      },
      "outputs": [],
      "source": [
        "# Define the values for classes\n",
        "classes = ['t-shirt', 'trouser', 'pullover', 'dress', 'coat',\n",
        "           'sandal', 'shirt', 'sneaker', 'bag', 'ankle boot']"
      ]
    },
    {
      "cell_type": "markdown",
      "metadata": {
        "id": "iQ60WJKlg3bQ"
      },
      "source": [
        "# <font color = 'pickle'> **Functions to implement Softmax**"
      ]
    },
    {
      "cell_type": "markdown",
      "metadata": {
        "id": "3D7A5cBeFoAI"
      },
      "source": [
        "Now, we will start implementing our Softmax Regression Model from scratch.\n",
        "\n",
        "We will now create following functions:\n",
        "\n",
        "- **Model**\n",
        "- **Loss Function** \n",
        "- **One Hot Encoding**\n",
        "- **Training Loop for 1 epoch**\n",
        "- **Validation Loop for 1 epoch**\n",
        "- **Model Training** - repeat the training and validation loops for given number of epochs\n",
        "- **Function to get the accuracy given the model**"
      ]
    },
    {
      "cell_type": "markdown",
      "metadata": {
        "id": "GLIXu5RaylkZ"
      },
      "source": [
        "## <Font color = 'pickle'>**Function to define Model**"
      ]
    },
    {
      "cell_type": "markdown",
      "metadata": {
        "id": "68CPKJ_Tb74H"
      },
      "source": [
        "It has two steps :\n",
        "- Calculate output as a linerar function of inputs\n",
        "$$o_k^{(i)}  = \\mathbf{x^{(i)}}\\mathbf{w_k} ^T+b_k$$\n",
        "- Apply softmax on output to get probabilities\n",
        "$$\\hat{p_k}^{(i)} = softmax(o_k^{(i)}) = \\frac{e^{o_k^{(i)}}}{\\sum_{j=1}^{K} e^{o_j^{(i)}}}$$"
      ]
    },
    {
      "cell_type": "markdown",
      "metadata": {
        "id": "WVdm23xz0idF"
      },
      "source": [
        "Softmax operation consists of three steps: \n",
        "- Exponentiate each term.\n",
        "- Sum over each row to get the normalization constant for each example.\n",
        "- Divide each row by its normalization constant.\n",
        "\n",
        "This is given by:\n",
        "\n",
        "We will first define the function for softmax operation."
      ]
    },
    {
      "cell_type": "code",
      "execution_count": null,
      "metadata": {
        "execution": {
          "iopub.execute_input": "2022-09-14T05:14:37.017234Z",
          "iopub.status.busy": "2022-09-14T05:14:37.016976Z",
          "iopub.status.idle": "2022-09-14T05:14:37.020244Z",
          "shell.execute_reply": "2022-09-14T05:14:37.019755Z",
          "shell.execute_reply.started": "2022-09-14T05:14:37.017218Z"
        },
        "id": "LNJY8GBipO2q",
        "tags": []
      },
      "outputs": [],
      "source": [
        "def softmax(output):\n",
        "    \"\"\" \n",
        "    Function to calculate softmax.\n",
        "    Input: Tensor.\n",
        "    Output: Softmax of tensor.\n",
        "    \"\"\"\n",
        "\n",
        "    # Numerator\n",
        "    num = torch.exp(output)\n",
        "\n",
        "    # Denominator\n",
        "    denom = num.sum(1, keepdim=True)\n",
        "\n",
        "    # Return the softmax value\n",
        "    return num / denom  "
      ]
    },
    {
      "cell_type": "code",
      "execution_count": null,
      "metadata": {
        "execution": {
          "iopub.execute_input": "2022-09-14T05:14:37.021092Z",
          "iopub.status.busy": "2022-09-14T05:14:37.020833Z",
          "iopub.status.idle": "2022-09-14T05:14:37.024970Z",
          "shell.execute_reply": "2022-09-14T05:14:37.024464Z",
          "shell.execute_reply.started": "2022-09-14T05:14:37.021075Z"
        },
        "id": "0pH7KccxpO0l",
        "tags": []
      },
      "outputs": [],
      "source": [
        "def model(X, W, b):\n",
        "    \"\"\" \n",
        "    Softmax Regression Model.\n",
        "    Input: Features, Weight, bias\n",
        "    Output: Predicted labels.\n",
        "    \"\"\"\n",
        "\n",
        "    # Reshape X so that matrix multiplication is possible between Weights and X\n",
        "    X = X.reshape(-1, W.shape[1])\n",
        "    \n",
        "    # Now we will perform the operation to get our equation y = Xw + b\n",
        "    Y = torch.matmul(X, W.T) + b\n",
        "\n",
        "    # Now we will return the softmax of our predictions\n",
        "    return softmax(Y)"
      ]
    },
    {
      "cell_type": "markdown",
      "metadata": {
        "id": "oVS8_YVHyr5T"
      },
      "source": [
        "## <Font color = 'pickle'>**Loss Function**\n",
        "\n",
        "We will be using cross-entropy loss.\n",
        "\n",
        "\n",
        "\n"
      ]
    },
    {
      "cell_type": "code",
      "execution_count": null,
      "metadata": {
        "execution": {
          "iopub.execute_input": "2022-09-14T05:14:37.025842Z",
          "iopub.status.busy": "2022-09-14T05:14:37.025565Z",
          "iopub.status.idle": "2022-09-14T05:14:37.028646Z",
          "shell.execute_reply": "2022-09-14T05:14:37.028150Z",
          "shell.execute_reply.started": "2022-09-14T05:14:37.025825Z"
        },
        "id": "j-RnWvExpOyy",
        "tags": []
      },
      "outputs": [],
      "source": [
        "def cross_entropy(ypred, y):\n",
        "    \"\"\" \n",
        "    Function to calculate Cross Entropy loss.\n",
        "    Input: Predicted labels and actual labels.\n",
        "    Output: Loss.\n",
        "    \"\"\" \n",
        "    return - torch.log(ypred[range(len(ypred)), y] + 1e-7).mean()"
      ]
    },
    {
      "cell_type": "markdown",
      "metadata": {
        "id": "qMsNKeyjy0GU"
      },
      "source": [
        "## <Font color = 'pickle'>**One-Hot Encoding- Encode Labels**\n",
        "\n",
        "A one-hot encoding is a vector with as many components as the labels. The component corresponding to particular instance’s label is set to 1 and all other components are set to 0. \n",
        "\n",
        "Suppose we have a dataset with 3 classes `{cat, dog, parrot}`. Now, if an image is a dog, it's one-hot encoded vector will be `{0, 1, 0}`.\n",
        "\n",
        "One-hot encoded vector for the all the 3 different classes:\n",
        "\n",
        "cat: {1, 0, 0}\n",
        "\n",
        "dog: {0, 1, 0}\n",
        "\n",
        "parrot: {0, 0, 1}"
      ]
    },
    {
      "cell_type": "code",
      "execution_count": null,
      "metadata": {
        "execution": {
          "iopub.execute_input": "2022-09-14T05:14:37.029485Z",
          "iopub.status.busy": "2022-09-14T05:14:37.029274Z",
          "iopub.status.idle": "2022-09-14T05:14:37.033511Z",
          "shell.execute_reply": "2022-09-14T05:14:37.033033Z",
          "shell.execute_reply.started": "2022-09-14T05:14:37.029468Z"
        },
        "id": "K5R3ELkGpOvH",
        "tags": []
      },
      "outputs": [],
      "source": [
        "def one_hot_labels(labels, num_labels, device):\n",
        "  \"\"\" \n",
        "  Function to convert labels to one-hot vectors.\n",
        "  Input: labels, number of labels, device\n",
        "  \n",
        "  Output: One-hot encoded labels.\n",
        "  \"\"\"\n",
        "\n",
        "\n",
        "  # Construct a tensor of size : (number of observations, number of labels)\n",
        "  y = torch.zeros((len(labels), num_labels), device = device)\n",
        "\n",
        "  # Iterate over labels and create one-hot vectors according to label value\n",
        "  for i, l in enumerate(labels):\n",
        "      y[i][l] = 1\n",
        "\n",
        "  # Return one-hot encoded vector of labels\n",
        "  return y"
      ]
    },
    {
      "cell_type": "markdown",
      "metadata": {
        "id": "aqI_o6qwy6lb"
      },
      "source": [
        "## <Font color = 'pickle'>**Function for Training  Loops**\n",
        "\n",
        "**Model Training** involves five steps: \n",
        "\n",
        "- Step 0: Randomly initialize parameters / weights\n",
        "- Step 1: Compute model's predictions - forward pass\n",
        "- Step 2: Compute loss\n",
        "- Step 3: Compute the gradients\n",
        "- Step 4: Update the parameters\n",
        "- Step 5: Repeat steps 1 - 4\n",
        "\n",
        "Model training is repeating this process over and over, for many **epochs**.\n",
        "\n",
        "We will specify number of ***epochs*** and during each epoch we will iterate over the complete dataset and will keep on updating the parameters.\n",
        "\n",
        "***Learning rate*** and ***epochs*** are known as hyperparameters. We have to adjust the values of these two based on validation dataset.\n",
        "\n",
        "We will now create functions for step 1 to 4."
      ]
    },
    {
      "cell_type": "code",
      "execution_count": null,
      "metadata": {
        "execution": {
          "iopub.execute_input": "2022-09-14T05:14:37.034571Z",
          "iopub.status.busy": "2022-09-14T05:14:37.034212Z",
          "iopub.status.idle": "2022-09-14T05:14:37.040441Z",
          "shell.execute_reply": "2022-09-14T05:14:37.039923Z",
          "shell.execute_reply.started": "2022-09-14T05:14:37.034554Z"
        },
        "id": "Pv4x22lZMn5p",
        "tags": []
      },
      "outputs": [],
      "source": [
        "def train(train_loader, W, b, num_outputs, learning_rate, loss_function, model):\n",
        "\n",
        "  \"\"\" \n",
        "  Function for training the model in each epoch\n",
        "  Input: iterator for train dataset, weights and bias, number of outputs, learning rate,\n",
        "  loss function, model.\n",
        "  Output: weights, bias, train loss, train accuracy at end of each epoch\n",
        "  \"\"\"\n",
        "\n",
        "  # Step 0: Randomly initialize parameters / weights - We give this as input to function for first epoch\n",
        "  # In subsequent epochs the function gets the updated weights from last epoch\n",
        "\n",
        "  # Training Loop \n",
        "  # Initialize train_loss at the he start of the epoch\n",
        "  running_train_loss = 0\n",
        "  running_train_correct = 0\n",
        "  \n",
        "  # Iterate on batches from the dataset using train_loader\n",
        "  for input_, targets in train_loader:\n",
        "    \n",
        "    # move inputs and outputs to GPUs\n",
        "    input_ = input_.to(device)\n",
        "    targets = targets.to(device)\n",
        "\n",
        "    # one hot encoding for target variable\n",
        "    target_encoded = one_hot_labels(targets, num_outputs, device = device)\n",
        "\n",
        "    # Step 1: Forward Pass: Compute model's predictions \n",
        "    output = model(input_, W, b)\n",
        "    \n",
        "    # Step 2: Compute loss\n",
        "    loss = loss_function(output, targets)\n",
        "\n",
        "    # Correct prediction\n",
        "    y_pred = torch.argmax(output, dim = 1)\n",
        "    correct = torch.sum(y_pred == targets)\n",
        "\n",
        "    # Step 3: Backward pass -Compute the gradients\n",
        "    error = output - target_encoded\n",
        "    grad_W = (1/len(input_)) * error.T.mm(input_.reshape(-1, W.shape[1]))\n",
        "    grad_b = (1/len(input_)) * error.sum()\n",
        "\n",
        "    # Step 4: Update the parameters\n",
        "    W -= learning_rate * grad_W \n",
        "    b -= learning_rate * grad_b \n",
        "          \n",
        "    # Add train loss of a batch \n",
        "    running_train_loss += loss.item()\n",
        "\n",
        "    # Add Corect counts of a batch\n",
        "    running_train_correct += correct\n",
        "  \n",
        "  # Calculate mean train loss for the whole dataset for a particular epoch\n",
        "  train_loss = running_train_loss/len(train_loader)\n",
        "\n",
        "  # Calculate accuracy for the whole dataset for a particular epoch\n",
        "  train_acc = running_train_correct/len(train_loader.dataset)\n",
        "  \n",
        "\n",
        "  return W, b, train_loss, train_acc"
      ]
    },
    {
      "cell_type": "markdown",
      "metadata": {
        "id": "KeLm-GI5bW2V"
      },
      "source": [
        "## <Font color = 'pickle'>**Function for Validation Loops**\n"
      ]
    },
    {
      "cell_type": "code",
      "execution_count": null,
      "metadata": {
        "execution": {
          "iopub.execute_input": "2022-09-14T05:14:37.041486Z",
          "iopub.status.busy": "2022-09-14T05:14:37.041103Z",
          "iopub.status.idle": "2022-09-14T05:14:37.045892Z",
          "shell.execute_reply": "2022-09-14T05:14:37.045411Z",
          "shell.execute_reply.started": "2022-09-14T05:14:37.041468Z"
        },
        "id": "pHP1WKDessiI",
        "tags": []
      },
      "outputs": [],
      "source": [
        "def validate(valid_loader, W, b, loss_function, model):\n",
        "\n",
        "  \"\"\" \n",
        "  Function for calcuilating loss and prediction for validataion dataset. \n",
        "  Input: iterator for validation dataset, estimated weights and bias at the end of epoch in training loop, \n",
        "  learning rate,   loss function, model\n",
        "  Output: val loss and accuracy for each epoch.\n",
        "  \"\"\"\n",
        "\n",
        "  # Validation loop\n",
        "  # Initialize valid_loss at the he strat of the epoch\n",
        "  \n",
        "  running_val_loss = 0\n",
        "  running_val_correct = 0\n",
        "\n",
        "  for input_,targets in valid_loader:\n",
        "\n",
        "    # move inputs and outputs to GPUs\n",
        "    input_ = input_.to(device)\n",
        "    targets = targets.to(device)\n",
        "\n",
        "    # Step 1: Forward Pass: Compute model's predictions \n",
        "    output = model(input_, W, b)\n",
        "    \n",
        "    # Step 2: Compute loss\n",
        "    loss = loss_function(output, targets)\n",
        "\n",
        "    # Correct Predictions\n",
        "    y_pred = torch.argmax(output, dim = 1)\n",
        "    correct = torch.sum(y_pred == targets)\n",
        "\n",
        "    # Add val loss of a batch \n",
        "    running_val_loss += loss.item()\n",
        "\n",
        "    # Add correct count for each batch\n",
        "    running_val_correct += correct\n",
        "\n",
        "  # Calculate mean val loss for the whole dataset for a particular epoch\n",
        "  val_loss = running_val_loss/len(valid_loader)\n",
        "\n",
        "  # Calculate accuracy for the whole dataset for a particular epoch\n",
        "  val_acc = running_val_correct/len(valid_loader.dataset)\n",
        "    \n",
        "  return val_loss, val_acc"
      ]
    },
    {
      "cell_type": "markdown",
      "metadata": {
        "id": "UwF70eqE6n_v"
      },
      "source": [
        "## <Font color = 'pickle'>**Function for Model Training**\n",
        "    \n",
        "We will now create a function for step 5 of model training\n"
      ]
    },
    {
      "cell_type": "code",
      "execution_count": null,
      "metadata": {
        "execution": {
          "iopub.execute_input": "2022-09-14T05:14:37.046765Z",
          "iopub.status.busy": "2022-09-14T05:14:37.046539Z",
          "iopub.status.idle": "2022-09-14T05:14:37.052365Z",
          "shell.execute_reply": "2022-09-14T05:14:37.051881Z",
          "shell.execute_reply.started": "2022-09-14T05:14:37.046748Z"
        },
        "id": "KeCKVgg-5FiZ",
        "tags": []
      },
      "outputs": [],
      "source": [
        "def train_loop(W, b, num_outputs, train_loader, valid_loader, model, loss_function, epochs, device):\n",
        "    \n",
        "  \"\"\" \n",
        "  Function for training the model and plotting the graph for train & validation loss vs epoch.\n",
        "  Input: iterator for train dataset, initial weights and bias, epochs, learning rate, batch size.\n",
        "  Output: final weights, bias and train loss and validation loss for each epoch.\n",
        "  \"\"\"\n",
        "\n",
        "  # Create lists to store train and val loss at each epoch\n",
        "  train_loss_history = []\n",
        "  valid_loss_history = []\n",
        "  train_acc_history = []\n",
        "  valid_acc_history = []\n",
        "\n",
        "  # Iterate for the given number of epochs\n",
        "  # Step 5: Repeat steps 1 - 4\n",
        "\n",
        "  for epoch in range(epochs):\n",
        "\n",
        "    # Get train loss and accuracy for one epoch\n",
        "    W, b, train_loss, train_acc = train(train_loader, W, b, num_outputs, learning_rate, loss_function, model)\n",
        "    valid_loss, valid_acc   = validate(valid_loader, W, b, loss_function, model)\n",
        "\n",
        "    # Save history of the Losses and accuracy\n",
        "    train_loss_history.append(train_loss)\n",
        "    train_acc_history.append(train_acc)\n",
        "\n",
        "    valid_loss_history.append(valid_loss)\n",
        "    valid_acc_history.append(valid_acc)\n",
        "\n",
        "    # Log the train and valid loss to wandb\n",
        "    wandb.log({f\"Train Loss :\": train_loss})\n",
        "    wandb.log({f\"Train Acc :\": train_acc})\n",
        "\n",
        "    wandb.log({f\"Valid Loss :\": valid_loss})\n",
        "    wandb.log({f\"Valid Acc :\": valid_acc})\n",
        "\n",
        "\n",
        "    # Print the train loss and accuracy for given number of epochs, batch size and number of samples\n",
        "    print(f'Epoch : {epoch+1} / {epochs}')\n",
        "    print(f'Train Loss: {train_loss : .4f} | Train Accuracy: {train_acc * 100 : .4f}%')\n",
        "    print(f'Valid Loss: {valid_loss : .4f} | Valid Accuracy: {valid_acc * 100 : .4f}%')\n",
        "    print()\n",
        "\n",
        "  return train_loss_history, train_acc_history, valid_loss_history, valid_acc_history"
      ]
    },
    {
      "cell_type": "markdown",
      "metadata": {
        "id": "FWCLH47azD6j"
      },
      "source": [
        "## <Font color = 'pickle'>**Function for Accuracy and Predictions**\n",
        "\n",
        "Now we have final values for weights and bias after training the model. We will use these values to make predictions on the test dataset."
      ]
    },
    {
      "cell_type": "code",
      "execution_count": null,
      "metadata": {
        "execution": {
          "iopub.execute_input": "2022-09-14T05:14:37.053263Z",
          "iopub.status.busy": "2022-09-14T05:14:37.052958Z",
          "iopub.status.idle": "2022-09-14T05:14:37.057864Z",
          "shell.execute_reply": "2022-09-14T05:14:37.057274Z",
          "shell.execute_reply.started": "2022-09-14T05:14:37.053246Z"
        },
        "id": "M6KZqsnqQFVu",
        "tags": []
      },
      "outputs": [],
      "source": [
        "def get_acc_pred(data_loader, W, b, device):\n",
        "    \n",
        "  \"\"\" \n",
        "  Function to get predictions and accuracy for a given data using estimated model\n",
        "  Input: Data iterator, Final estimated weoights, bias\n",
        "  Output: Prections and Accuracy for given dataset\n",
        "  \"\"\"\n",
        "\n",
        "  # Array to store predicted labels\n",
        "  predictions = torch.Tensor() # empty tensor\n",
        "  predictions = predictions.to(device) # move predictions to GPU\n",
        "\n",
        "  # Array to store actual labels\n",
        "  y = torch.Tensor() # empty tensor\n",
        "  y = y.to(device)\n",
        "\n",
        "  # Iterate over batches from data iterator\n",
        "  for input_, targets in data_loader:\n",
        "    \n",
        "    # move inputs and outputs to GPUs\n",
        "    input_ = input_.to(device)\n",
        "    targets = targets.to(device)\n",
        "\n",
        "    # Calculated the predicted labels\n",
        "    output = model(input_, W, b)\n",
        "\n",
        "    # Choose the label with maximum probability\n",
        "    prediction = torch.argmax(output, dim = 1)\n",
        "\n",
        "    # Add the predicted labels to the array\n",
        "    predictions = torch.cat((predictions, prediction)) \n",
        "\n",
        "    # Add the actual labels to the array\n",
        "    y = torch.cat((y, targets)) \n",
        "\n",
        "  # Check for complete dataset if actual and predicted labels are same or not\n",
        "  # Calculate accuracy\n",
        "  acc = (predictions == y).float().mean()\n",
        "\n",
        "  # Return tuple containing predictions and accuracy\n",
        "  return predictions, acc  "
      ]
    },
    {
      "cell_type": "markdown",
      "metadata": {
        "id": "oVk_RctgdPRP"
      },
      "source": [
        "# <Font color = 'pickle'>**Hyperparameters**"
      ]
    },
    {
      "cell_type": "code",
      "execution_count": null,
      "metadata": {
        "colab": {
          "base_uri": "https://localhost:8080/",
          "height": 88
        },
        "execution": {
          "iopub.execute_input": "2022-09-14T05:14:37.058702Z",
          "iopub.status.busy": "2022-09-14T05:14:37.058496Z",
          "iopub.status.idle": "2022-09-14T05:14:43.989590Z",
          "shell.execute_reply": "2022-09-14T05:14:43.988941Z",
          "shell.execute_reply.started": "2022-09-14T05:14:37.058686Z"
        },
        "id": "fZ6ZoM9WaS_M",
        "outputId": "4ee3b5ec-74e0-42c5-d3bb-cdb2815976f1",
        "tags": []
      },
      "outputs": [
        {
          "output_type": "stream",
          "name": "stderr",
          "text": [
            "\u001b[34m\u001b[1mwandb\u001b[0m: Currently logged in as: \u001b[33mhsingh-utd\u001b[0m. Use \u001b[1m`wandb login --relogin`\u001b[0m to force relogin\n"
          ]
        },
        {
          "output_type": "display_data",
          "data": {
            "text/plain": [
              "<IPython.core.display.HTML object>"
            ],
            "text/html": [
              "Tracking run with wandb version 0.13.3"
            ]
          },
          "metadata": {}
        },
        {
          "output_type": "display_data",
          "data": {
            "text/plain": [
              "<IPython.core.display.HTML object>"
            ],
            "text/html": [
              "Run data is saved locally in <code>/content/wandb/run-20220914_073018-3uivaaa3</code>"
            ]
          },
          "metadata": {}
        },
        {
          "output_type": "display_data",
          "data": {
            "text/plain": [
              "<IPython.core.display.HTML object>"
            ],
            "text/html": [
              "Syncing run <strong><a href=\"https://wandb.ai/hsingh-utd/dl22_l3/runs/3uivaaa3\" target=\"_blank\">FMNIST_scratch</a></strong> to <a href=\"https://wandb.ai/hsingh-utd/dl22_l3\" target=\"_blank\">Weights & Biases</a> (<a href=\"https://wandb.me/run\" target=\"_blank\">docs</a>)<br/>"
            ]
          },
          "metadata": {}
        }
      ],
      "source": [
        "# Initialize a new project\n",
        "wandb.init(name = \"FMNIST_scratch\", project = 'dl22_L3')\n",
        "\n",
        "# Initialize number of epochs, learning rate and batch size\n",
        "learning_rate = 0.005\n",
        "wandb.log({'learning_rate': learning_rate})\n",
        "epochs = 10\n",
        "\n",
        "# device \n",
        "device = torch.device('cuda:0' if torch.cuda.is_available() else 'cpu')\n",
        "\n",
        "# Initialize number of inputs (features: 28 X 28 X 1) and outputs (labels: 10)\n",
        "num_inputs = 1 * 28 * 28\n",
        "num_outputs = 10\n",
        "\n",
        "# Initialize weights from normal distribution with mean 0 and standard deviation 0.01\n",
        "W = torch.normal(0, 0.05, size = (num_outputs, num_inputs), device = device)\n",
        "\n",
        "# Initialize bias with zeros\n",
        "b = torch.zeros(num_outputs, device = device)\n",
        "\n",
        "loss_function = cross_entropy\n",
        "model = model"
      ]
    },
    {
      "cell_type": "markdown",
      "metadata": {
        "id": "e0_zWk0Ib74K"
      },
      "source": [
        "# <Font color = 'pickle'>**Training Model**"
      ]
    },
    {
      "cell_type": "code",
      "execution_count": null,
      "metadata": {
        "colab": {
          "base_uri": "https://localhost:8080/",
          "height": 1000
        },
        "execution": {
          "iopub.execute_input": "2022-09-14T05:14:43.990489Z",
          "iopub.status.busy": "2022-09-14T05:14:43.990260Z",
          "iopub.status.idle": "2022-09-14T05:15:58.580240Z",
          "shell.execute_reply": "2022-09-14T05:15:58.579758Z",
          "shell.execute_reply.started": "2022-09-14T05:14:43.990475Z"
        },
        "id": "LckLb_9bhZDw",
        "outputId": "f1c098e0-f34a-4e37-c12b-c3c98e271dd8",
        "tags": []
      },
      "outputs": [
        {
          "output_type": "display_data",
          "data": {
            "text/plain": [
              "<wandb.jupyter.IFrame at 0x7f3ab1e45850>"
            ],
            "text/html": [
              "<iframe src=\"https://wandb.ai/hsingh-utd/dl22_l3/runs/3uivaaa3?jupyter=true\" style=\"border:none;width:100%;height:420px;\"></iframe>"
            ]
          },
          "metadata": {}
        },
        {
          "output_type": "stream",
          "name": "stdout",
          "text": [
            "Epoch : 1 / 10\n",
            "Train Loss:  1.1698 | Train Accuracy:  60.2000%\n",
            "Valid Loss:  0.8053 | Valid Accuracy:  72.4083%\n",
            "\n",
            "Epoch : 2 / 10\n",
            "Train Loss:  0.7225 | Train Accuracy:  74.7542%\n",
            "Valid Loss:  0.6906 | Valid Accuracy:  75.9500%\n",
            "\n",
            "Epoch : 3 / 10\n",
            "Train Loss:  0.6457 | Train Accuracy:  77.4313%\n",
            "Valid Loss:  0.6398 | Valid Accuracy:  77.6750%\n",
            "\n",
            "Epoch : 4 / 10\n",
            "Train Loss:  0.6039 | Train Accuracy:  78.9333%\n",
            "Valid Loss:  0.6073 | Valid Accuracy:  78.8417%\n",
            "\n",
            "Epoch : 5 / 10\n",
            "Train Loss:  0.5774 | Train Accuracy:  79.9542%\n",
            "Valid Loss:  0.5848 | Valid Accuracy:  79.6917%\n",
            "\n",
            "Epoch : 6 / 10\n",
            "Train Loss:  0.5580 | Train Accuracy:  80.5771%\n",
            "Valid Loss:  0.5692 | Valid Accuracy:  80.2750%\n",
            "\n",
            "Epoch : 7 / 10\n",
            "Train Loss:  0.5429 | Train Accuracy:  81.0563%\n",
            "Valid Loss:  0.5564 | Valid Accuracy:  80.6500%\n",
            "\n",
            "Epoch : 8 / 10\n",
            "Train Loss:  0.5310 | Train Accuracy:  81.5104%\n",
            "Valid Loss:  0.5451 | Valid Accuracy:  81.1167%\n",
            "\n",
            "Epoch : 9 / 10\n",
            "Train Loss:  0.5210 | Train Accuracy:  81.8167%\n",
            "Valid Loss:  0.5375 | Valid Accuracy:  81.5917%\n",
            "\n",
            "Epoch : 10 / 10\n",
            "Train Loss:  0.5129 | Train Accuracy:  82.1437%\n",
            "Valid Loss:  0.5293 | Valid Accuracy:  81.8083%\n",
            "\n"
          ]
        }
      ],
      "source": [
        "# See live graphs in the notebook.\n",
        "%%wandb \n",
        "train_loss_history, train_acc_history, valid_loss_history, valid_acc_history = train_loop(W, b, \n",
        "                                                                                          num_outputs, \n",
        "                                                                                          train_loader, \n",
        "                                                                                          valid_loader, \n",
        "                                                                                          model, \n",
        "                                                                                          loss_function, \n",
        "                                                                                          epochs, \n",
        "                                                                                          device)"
      ]
    },
    {
      "cell_type": "markdown",
      "metadata": {
        "id": "pG8DWY1NfViW"
      },
      "source": [
        "We can observe that with each epoch, our loss is getting reduced."
      ]
    },
    {
      "cell_type": "markdown",
      "metadata": {
        "id": "c-Cj1f2Qb74K"
      },
      "source": [
        "# <Font color = 'pickle'>**Get Accuracy, Predictions**"
      ]
    },
    {
      "cell_type": "code",
      "execution_count": null,
      "metadata": {
        "execution": {
          "iopub.execute_input": "2022-09-14T05:15:58.582919Z",
          "iopub.status.busy": "2022-09-14T05:15:58.582773Z",
          "iopub.status.idle": "2022-09-14T05:15:59.908270Z",
          "shell.execute_reply": "2022-09-14T05:15:59.907822Z",
          "shell.execute_reply.started": "2022-09-14T05:15:58.582906Z"
        },
        "id": "yw7GhoZuRdIO",
        "tags": []
      },
      "outputs": [],
      "source": [
        "# Get the prediction and accuracy for the test dataset\n",
        "predictions_test, acc_test = get_acc_pred(test_loader, W, b, device)"
      ]
    },
    {
      "cell_type": "code",
      "execution_count": null,
      "metadata": {
        "colab": {
          "base_uri": "https://localhost:8080/"
        },
        "execution": {
          "iopub.execute_input": "2022-09-14T05:15:59.908911Z",
          "iopub.status.busy": "2022-09-14T05:15:59.908787Z",
          "iopub.status.idle": "2022-09-14T05:15:59.913493Z",
          "shell.execute_reply": "2022-09-14T05:15:59.912897Z",
          "shell.execute_reply.started": "2022-09-14T05:15:59.908899Z"
        },
        "id": "3v2z0oFcRjrF",
        "outputId": "a77272b3-9a55-44c7-8400-6ed7a10621d4"
      },
      "outputs": [
        {
          "output_type": "stream",
          "name": "stdout",
          "text": [
            "Test accuracy tensor(81.3300, device='cuda:0')\n"
          ]
        }
      ],
      "source": [
        "# Print Test Accuracy\n",
        "print('Test accuracy', acc_test * 100)"
      ]
    },
    {
      "cell_type": "code",
      "execution_count": null,
      "metadata": {
        "execution": {
          "iopub.execute_input": "2022-09-14T05:15:59.914302Z",
          "iopub.status.busy": "2022-09-14T05:15:59.914116Z",
          "iopub.status.idle": "2022-09-14T05:15:59.917272Z",
          "shell.execute_reply": "2022-09-14T05:15:59.916845Z",
          "shell.execute_reply.started": "2022-09-14T05:15:59.914288Z"
        },
        "id": "vcfIlMd3FKAX"
      },
      "outputs": [],
      "source": [
        "wandb.log({'Test_Acc': acc_test})"
      ]
    },
    {
      "cell_type": "markdown",
      "metadata": {
        "id": "caRp4G3ov5fp"
      },
      "source": [
        "# <Font color = 'pickle'>**Confusion Matrix for Test Data**"
      ]
    },
    {
      "cell_type": "markdown",
      "metadata": {
        "id": "GZf0pSyQV32m"
      },
      "source": [
        "Now, we will make some visualizations for the predictions that we obtained."
      ]
    },
    {
      "cell_type": "markdown",
      "metadata": {
        "id": "5sQH0GvxXnam"
      },
      "source": [
        "We will construct a `confusion matrix` which will help us to visualize the performance of our classification model on the test dataset as we know the true values for the test data."
      ]
    },
    {
      "cell_type": "code",
      "execution_count": null,
      "metadata": {
        "execution": {
          "iopub.execute_input": "2022-09-14T05:15:59.917970Z",
          "iopub.status.busy": "2022-09-14T05:15:59.917777Z",
          "iopub.status.idle": "2022-09-14T05:15:59.923201Z",
          "shell.execute_reply": "2022-09-14T05:15:59.922825Z",
          "shell.execute_reply.started": "2022-09-14T05:15:59.917917Z"
        },
        "id": "NaiRaPuQYYIV"
      },
      "outputs": [],
      "source": [
        "# Get an array containing actual labels\n",
        "testing_labels = np.array(testset.targets)"
      ]
    },
    {
      "cell_type": "code",
      "execution_count": null,
      "metadata": {
        "colab": {
          "base_uri": "https://localhost:8080/"
        },
        "execution": {
          "iopub.execute_input": "2022-09-14T05:15:59.923901Z",
          "iopub.status.busy": "2022-09-14T05:15:59.923750Z",
          "iopub.status.idle": "2022-09-14T05:15:59.927542Z",
          "shell.execute_reply": "2022-09-14T05:15:59.927166Z",
          "shell.execute_reply.started": "2022-09-14T05:15:59.923886Z"
        },
        "id": "wMuZ1Yl2X47z",
        "outputId": "9ef1d497-da0a-4b27-db01-7f246810d344"
      },
      "outputs": [
        {
          "output_type": "execute_result",
          "data": {
            "text/plain": [
              "array([0, 1, 2, 3, 4, 5, 6, 7, 8, 9])"
            ]
          },
          "metadata": {},
          "execution_count": 44
        }
      ],
      "source": [
        "np.unique(testing_labels)"
      ]
    },
    {
      "cell_type": "code",
      "execution_count": null,
      "metadata": {
        "execution": {
          "iopub.execute_input": "2022-09-14T05:15:59.928197Z",
          "iopub.status.busy": "2022-09-14T05:15:59.928052Z",
          "iopub.status.idle": "2022-09-14T05:16:00.268742Z",
          "shell.execute_reply": "2022-09-14T05:16:00.268393Z",
          "shell.execute_reply.started": "2022-09-14T05:15:59.928183Z"
        },
        "id": "lAtBZumJcuwX"
      },
      "outputs": [],
      "source": [
        "# Log a confusion matrix to W&B\n",
        "wandb.log({\"conf_mat\" : wandb.plot.confusion_matrix(\n",
        "                        probs = None,\n",
        "                        y_true = testing_labels,\n",
        "                        preds = predictions_test.to('cpu').numpy(),\n",
        "                        class_names = classes)})\n"
      ]
    },
    {
      "cell_type": "code",
      "execution_count": null,
      "metadata": {
        "colab": {
          "base_uri": "https://localhost:8080/",
          "height": 308,
          "referenced_widgets": [
            "2e36a810da4442f0bac0dc26a405498c",
            "ff1a9af466ac4c428b4140d321521239",
            "31d15d42efa8426fbb5d71ed87c912a8",
            "8524cf7ed02a404f93657f8f8f686423",
            "27a399eee609447496e9efab6070bd24",
            "5cc3cb3fbbb14edd829829aa5c5d7e2d",
            "3894811b864e4d5d99a3eb2de79827ff",
            "01e14805231d40e79033f99363a328c4"
          ]
        },
        "execution": {
          "iopub.execute_input": "2022-09-14T05:16:00.269329Z",
          "iopub.status.busy": "2022-09-14T05:16:00.269205Z",
          "iopub.status.idle": "2022-09-14T05:16:06.436958Z",
          "shell.execute_reply": "2022-09-14T05:16:06.436649Z",
          "shell.execute_reply.started": "2022-09-14T05:16:00.269317Z"
        },
        "id": "jIlsxRdPHZYa",
        "outputId": "5e623233-fdb4-4174-a758-9c43ed959840",
        "tags": []
      },
      "outputs": [
        {
          "output_type": "display_data",
          "data": {
            "text/plain": [
              "<IPython.core.display.HTML object>"
            ],
            "text/html": [
              "Waiting for W&B process to finish... <strong style=\"color:green\">(success).</strong>"
            ]
          },
          "metadata": {}
        },
        {
          "output_type": "display_data",
          "data": {
            "text/plain": [
              "VBox(children=(Label(value='0.004 MB of 0.006 MB uploaded (0.000 MB deduped)\\r'), FloatProgress(value=0.568174…"
            ],
            "application/vnd.jupyter.widget-view+json": {
              "version_major": 2,
              "version_minor": 0,
              "model_id": "2e36a810da4442f0bac0dc26a405498c"
            }
          },
          "metadata": {}
        },
        {
          "output_type": "display_data",
          "data": {
            "text/plain": [
              "<IPython.core.display.HTML object>"
            ],
            "text/html": [
              "<style>\n",
              "    table.wandb td:nth-child(1) { padding: 0 10px; text-align: left ; width: auto;} td:nth-child(2) {text-align: left ; width: 100%}\n",
              "    .wandb-row { display: flex; flex-direction: row; flex-wrap: wrap; justify-content: flex-start; width: 100% }\n",
              "    .wandb-col { display: flex; flex-direction: column; flex-basis: 100%; flex: 1; padding: 10px; }\n",
              "    </style>\n",
              "<div class=\"wandb-row\"><div class=\"wandb-col\"><h3>Run history:</h3><br/><table class=\"wandb\"><tr><td>Test_Acc</td><td>▁</td></tr><tr><td>Train Acc :</td><td>▁▆▆▇▇█████</td></tr><tr><td>Train Loss :</td><td>█▃▂▂▂▁▁▁▁▁</td></tr><tr><td>Valid Acc :</td><td>▁▄▅▆▆▇▇▇██</td></tr><tr><td>Valid Loss :</td><td>█▅▄▃▂▂▂▁▁▁</td></tr><tr><td>learning_rate</td><td>▁</td></tr></table><br/></div><div class=\"wandb-col\"><h3>Run summary:</h3><br/><table class=\"wandb\"><tr><td>Test_Acc</td><td>0.8133</td></tr><tr><td>Train Acc :</td><td>0.82144</td></tr><tr><td>Train Loss :</td><td>0.51289</td></tr><tr><td>Valid Acc :</td><td>0.81808</td></tr><tr><td>Valid Loss :</td><td>0.52927</td></tr><tr><td>learning_rate</td><td>0.005</td></tr></table><br/></div></div>"
            ]
          },
          "metadata": {}
        },
        {
          "output_type": "display_data",
          "data": {
            "text/plain": [
              "<IPython.core.display.HTML object>"
            ],
            "text/html": [
              "Synced <strong style=\"color:#cdcd00\">FMNIST_scratch</strong>: <a href=\"https://wandb.ai/hsingh-utd/dl22_l3/runs/3uivaaa3\" target=\"_blank\">https://wandb.ai/hsingh-utd/dl22_l3/runs/3uivaaa3</a><br/>Synced 5 W&B file(s), 1 media file(s), 1 artifact file(s) and 0 other file(s)"
            ]
          },
          "metadata": {}
        },
        {
          "output_type": "display_data",
          "data": {
            "text/plain": [
              "<IPython.core.display.HTML object>"
            ],
            "text/html": [
              "Find logs at: <code>./wandb/run-20220914_073018-3uivaaa3/logs</code>"
            ]
          },
          "metadata": {}
        }
      ],
      "source": [
        "wandb.finish()"
      ]
    }
  ],
  "metadata": {
    "accelerator": "GPU",
    "colab": {
      "collapsed_sections": [],
      "machine_shape": "hm",
      "provenance": [],
      "toc_visible": true,
      "include_colab_link": true
    },
    "gpuClass": "standard",
    "kernelspec": {
      "display_name": "Python 3 (ipykernel)",
      "language": "python",
      "name": "python3"
    },
    "language_info": {
      "codemirror_mode": {
        "name": "ipython",
        "version": 3
      },
      "file_extension": ".py",
      "mimetype": "text/x-python",
      "name": "python",
      "nbconvert_exporter": "python",
      "pygments_lexer": "ipython3",
      "version": "3.9.13"
    },
    "widgets": {
      "application/vnd.jupyter.widget-state+json": {
        "2e36a810da4442f0bac0dc26a405498c": {
          "model_module": "@jupyter-widgets/controls",
          "model_name": "VBoxModel",
          "model_module_version": "1.5.0",
          "state": {
            "_dom_classes": [],
            "_model_module": "@jupyter-widgets/controls",
            "_model_module_version": "1.5.0",
            "_model_name": "VBoxModel",
            "_view_count": null,
            "_view_module": "@jupyter-widgets/controls",
            "_view_module_version": "1.5.0",
            "_view_name": "VBoxView",
            "box_style": "",
            "children": [
              "IPY_MODEL_ff1a9af466ac4c428b4140d321521239",
              "IPY_MODEL_31d15d42efa8426fbb5d71ed87c912a8"
            ],
            "layout": "IPY_MODEL_8524cf7ed02a404f93657f8f8f686423"
          }
        },
        "ff1a9af466ac4c428b4140d321521239": {
          "model_module": "@jupyter-widgets/controls",
          "model_name": "LabelModel",
          "model_module_version": "1.5.0",
          "state": {
            "_dom_classes": [],
            "_model_module": "@jupyter-widgets/controls",
            "_model_module_version": "1.5.0",
            "_model_name": "LabelModel",
            "_view_count": null,
            "_view_module": "@jupyter-widgets/controls",
            "_view_module_version": "1.5.0",
            "_view_name": "LabelView",
            "description": "",
            "description_tooltip": null,
            "layout": "IPY_MODEL_27a399eee609447496e9efab6070bd24",
            "placeholder": "​",
            "style": "IPY_MODEL_5cc3cb3fbbb14edd829829aa5c5d7e2d",
            "value": "0.017 MB of 0.017 MB uploaded (0.000 MB deduped)\r"
          }
        },
        "31d15d42efa8426fbb5d71ed87c912a8": {
          "model_module": "@jupyter-widgets/controls",
          "model_name": "FloatProgressModel",
          "model_module_version": "1.5.0",
          "state": {
            "_dom_classes": [],
            "_model_module": "@jupyter-widgets/controls",
            "_model_module_version": "1.5.0",
            "_model_name": "FloatProgressModel",
            "_view_count": null,
            "_view_module": "@jupyter-widgets/controls",
            "_view_module_version": "1.5.0",
            "_view_name": "ProgressView",
            "bar_style": "",
            "description": "",
            "description_tooltip": null,
            "layout": "IPY_MODEL_3894811b864e4d5d99a3eb2de79827ff",
            "max": 1,
            "min": 0,
            "orientation": "horizontal",
            "style": "IPY_MODEL_01e14805231d40e79033f99363a328c4",
            "value": 1
          }
        },
        "8524cf7ed02a404f93657f8f8f686423": {
          "model_module": "@jupyter-widgets/base",
          "model_name": "LayoutModel",
          "model_module_version": "1.2.0",
          "state": {
            "_model_module": "@jupyter-widgets/base",
            "_model_module_version": "1.2.0",
            "_model_name": "LayoutModel",
            "_view_count": null,
            "_view_module": "@jupyter-widgets/base",
            "_view_module_version": "1.2.0",
            "_view_name": "LayoutView",
            "align_content": null,
            "align_items": null,
            "align_self": null,
            "border": null,
            "bottom": null,
            "display": null,
            "flex": null,
            "flex_flow": null,
            "grid_area": null,
            "grid_auto_columns": null,
            "grid_auto_flow": null,
            "grid_auto_rows": null,
            "grid_column": null,
            "grid_gap": null,
            "grid_row": null,
            "grid_template_areas": null,
            "grid_template_columns": null,
            "grid_template_rows": null,
            "height": null,
            "justify_content": null,
            "justify_items": null,
            "left": null,
            "margin": null,
            "max_height": null,
            "max_width": null,
            "min_height": null,
            "min_width": null,
            "object_fit": null,
            "object_position": null,
            "order": null,
            "overflow": null,
            "overflow_x": null,
            "overflow_y": null,
            "padding": null,
            "right": null,
            "top": null,
            "visibility": null,
            "width": null
          }
        },
        "27a399eee609447496e9efab6070bd24": {
          "model_module": "@jupyter-widgets/base",
          "model_name": "LayoutModel",
          "model_module_version": "1.2.0",
          "state": {
            "_model_module": "@jupyter-widgets/base",
            "_model_module_version": "1.2.0",
            "_model_name": "LayoutModel",
            "_view_count": null,
            "_view_module": "@jupyter-widgets/base",
            "_view_module_version": "1.2.0",
            "_view_name": "LayoutView",
            "align_content": null,
            "align_items": null,
            "align_self": null,
            "border": null,
            "bottom": null,
            "display": null,
            "flex": null,
            "flex_flow": null,
            "grid_area": null,
            "grid_auto_columns": null,
            "grid_auto_flow": null,
            "grid_auto_rows": null,
            "grid_column": null,
            "grid_gap": null,
            "grid_row": null,
            "grid_template_areas": null,
            "grid_template_columns": null,
            "grid_template_rows": null,
            "height": null,
            "justify_content": null,
            "justify_items": null,
            "left": null,
            "margin": null,
            "max_height": null,
            "max_width": null,
            "min_height": null,
            "min_width": null,
            "object_fit": null,
            "object_position": null,
            "order": null,
            "overflow": null,
            "overflow_x": null,
            "overflow_y": null,
            "padding": null,
            "right": null,
            "top": null,
            "visibility": null,
            "width": null
          }
        },
        "5cc3cb3fbbb14edd829829aa5c5d7e2d": {
          "model_module": "@jupyter-widgets/controls",
          "model_name": "DescriptionStyleModel",
          "model_module_version": "1.5.0",
          "state": {
            "_model_module": "@jupyter-widgets/controls",
            "_model_module_version": "1.5.0",
            "_model_name": "DescriptionStyleModel",
            "_view_count": null,
            "_view_module": "@jupyter-widgets/base",
            "_view_module_version": "1.2.0",
            "_view_name": "StyleView",
            "description_width": ""
          }
        },
        "3894811b864e4d5d99a3eb2de79827ff": {
          "model_module": "@jupyter-widgets/base",
          "model_name": "LayoutModel",
          "model_module_version": "1.2.0",
          "state": {
            "_model_module": "@jupyter-widgets/base",
            "_model_module_version": "1.2.0",
            "_model_name": "LayoutModel",
            "_view_count": null,
            "_view_module": "@jupyter-widgets/base",
            "_view_module_version": "1.2.0",
            "_view_name": "LayoutView",
            "align_content": null,
            "align_items": null,
            "align_self": null,
            "border": null,
            "bottom": null,
            "display": null,
            "flex": null,
            "flex_flow": null,
            "grid_area": null,
            "grid_auto_columns": null,
            "grid_auto_flow": null,
            "grid_auto_rows": null,
            "grid_column": null,
            "grid_gap": null,
            "grid_row": null,
            "grid_template_areas": null,
            "grid_template_columns": null,
            "grid_template_rows": null,
            "height": null,
            "justify_content": null,
            "justify_items": null,
            "left": null,
            "margin": null,
            "max_height": null,
            "max_width": null,
            "min_height": null,
            "min_width": null,
            "object_fit": null,
            "object_position": null,
            "order": null,
            "overflow": null,
            "overflow_x": null,
            "overflow_y": null,
            "padding": null,
            "right": null,
            "top": null,
            "visibility": null,
            "width": null
          }
        },
        "01e14805231d40e79033f99363a328c4": {
          "model_module": "@jupyter-widgets/controls",
          "model_name": "ProgressStyleModel",
          "model_module_version": "1.5.0",
          "state": {
            "_model_module": "@jupyter-widgets/controls",
            "_model_module_version": "1.5.0",
            "_model_name": "ProgressStyleModel",
            "_view_count": null,
            "_view_module": "@jupyter-widgets/base",
            "_view_module_version": "1.2.0",
            "_view_name": "StyleView",
            "bar_color": null,
            "description_width": ""
          }
        }
      }
    }
  },
  "nbformat": 4,
  "nbformat_minor": 0
}